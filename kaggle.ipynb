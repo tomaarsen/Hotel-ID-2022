{
 "cells": [
  {
   "cell_type": "markdown",
   "metadata": {},
   "source": [
    "This is a copy of the notebook that we built on Kaggle to build our submissions.\n",
    "It relies on `cli_evaluate.py` from our repository, and has the following dependencies:\n",
    "* `hid-models`, our (private) Kaggle Dataset with model checkpoints and pre-computed embeddings of training images.\n",
    "* `hotelid-eval`, our (private) Kaggle Dataset with a copy of the `ensemble` branch of our repository.\n",
    "* `hotelid-source`, our (private) Kaggle Dataset with a copy of the `arcface` branch (generally) of our repository.\n",
    "* `pytorch-metric-learning`, a (public) Kaggle Dataset to install `pytorch-metric-learning` and `faiss-gpu`.\n",
    "* `timm-pretrained-models`, our (private) Kaggle Dataset with checkpoints of several pre-trained timm models.\n",
    "* `timmpackages`, our (private) Kaggle Dataset to install `timm`."
   ]
  },
  {
   "cell_type": "code",
   "execution_count": null,
   "metadata": {},
   "outputs": [],
   "source": [
    "!ls -lha /kaggle/input/"
   ]
  },
  {
   "cell_type": "code",
   "execution_count": null,
   "metadata": {},
   "outputs": [],
   "source": [
    "# Required for CosFace\n",
    "!pip install pytorch-metric-learning --no-index --find-links=file:///kaggle/input/pytorchmetriclearning/pml/ \n",
    "!pip install faiss-gpu --no-index --find-links=file:///kaggle/input/pytorchmetriclearning/faiss/"
   ]
  },
  {
   "cell_type": "code",
   "execution_count": null,
   "metadata": {},
   "outputs": [],
   "source": [
    "# Install timm via the `timmpackages` Kaggle Dataset\n",
    "!pip install timm --no-index --find-links=file:///kaggle/input/timmpackages/timm/"
   ]
  },
  {
   "cell_type": "code",
   "execution_count": null,
   "metadata": {},
   "outputs": [],
   "source": [
    "# Copy pretrained models to root cache, this way timm can use them\n",
    "!mkdir -p /root/.cache/torch/hub/checkpoints/\n",
    "!cp /kaggle/input/timmecanfnetl0/* /root/.cache/torch/hub/checkpoints/\n",
    "!ls -lha /root/.cache/torch/hub/checkpoints/"
   ]
  },
  {
   "cell_type": "markdown",
   "metadata": {},
   "source": [
    "1. `eca_nfnet_l2 + ArcFace, --checkpoint_path /kaggle/input/hidmodels/epoch_0019.step_000201160.val-loss_3.0714.last.ckpt \\`\n",
    "2. `efficientnet_b3 + ArcFace, --checkpoint_path /kaggle/input/hidmodels/epoch_0019.step_000100580.val-loss_4.0622.last.ckpt \\`\n",
    "3. `eca_nfnet_l2 + CosFace, --checkpoint_path /kaggle/input/hidmodels/epoch_0019.step_000201160.val-loss_13.1027.best.ckpt \\`\n",
    "4. `vit_small_patch16_384 + ArcFace, --checkpoint_path /kaggle/input/hidmodels/epoch_0019.step_000050280.val-loss_4.4766.last.ckpt \\`\n",
    "5. `vit_small_patch16_384 + ArcFace (50 epochs), --checkpoint_path /kaggle/input/hidmodels/epoch_0049.step_000125700.val-loss_3.2614.best.ckpt \\`\n",
    "6. `regnety_120 + ArcFace (60 epochs), --checkpoint_path /kaggle/input/hidmodels/epoch_0059.step_000301740.val-loss_3.7426.best.ckpt \\`\n",
    "7. `resnest101e + ArcFace (60 epochs), --checkpoint_path /kaggle/input/hidmodels/epoch_0059.step_000301740.val-loss_3.8213.last.ckpt \\`"
   ]
  },
  {
   "cell_type": "code",
   "execution_count": null,
   "metadata": {},
   "outputs": [],
   "source": [
    "!python /kaggle/input/hotelideval/cli_evaluate.py \\\n",
    "--checkpoint_path /kaggle/input/hidmodels/epoch_0019.step_000100580.val-loss_4.0622.last.ckpt \\\n",
    "--checkpoint_path /kaggle/input/hidmodels/epoch_0019.step_000201160.val-loss_13.1027.best.ckpt \\\n",
    "--checkpoint_path /kaggle/input/hidmodels/epoch_0049.step_000125700.val-loss_3.2614.best.ckpt \\\n",
    "--checkpoint_path /kaggle/input/hidmodels/epoch_0059.step_000301740.val-loss_3.7426.best.ckpt \\\n",
    "--data_folder /kaggle/input/hotel-id-to-combat-human-trafficking-2022-fgvc9 \\\n",
    "--embedding_folder /kaggle/input/hidmodels/"
   ]
  }
 ],
 "metadata": {
  "language_info": {
   "name": "python"
  },
  "orig_nbformat": 4
 },
 "nbformat": 4,
 "nbformat_minor": 2
}
